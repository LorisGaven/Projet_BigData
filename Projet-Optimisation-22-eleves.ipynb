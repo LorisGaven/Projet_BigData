{
 "cells": [
  {
   "cell_type": "markdown",
   "metadata": {},
   "source": [
    "# Optimization for Collabrative filtering"
   ]
  },
  {
   "cell_type": "markdown",
   "metadata": {},
   "source": [
    "# A. Preprocessing of data\n",
    "\n",
    "1. Data format\n",
    "\n",
    "We are going to preprocess a rating file in the following csv format:  \n",
    "```\n",
    "UserID::MovieID::Rating::Timestamp\n",
    "```\n",
    "\n",
    "2. Prepare data for cross-validation\n",
    "\n",
    "Splitting Data for a user-based N-fold cross-validation. Store each partition into a new csv file. \n",
    "\n",
    "It is convinient to use a python package lenskit. It can be installed by following https://lkpy.readthedocs.io/en/stable/install.html\n",
    "\n",
    "Use the function lenskit.crossfold.partition_rows to partition all the ratings into N train-test partitions.\n",
    "\n",
    "3. Convert to a list format\n",
    "\n",
    "Convert data into a list format for fast processing\n"
   ]
  },
  {
   "cell_type": "code",
   "execution_count": 11,
   "metadata": {},
   "outputs": [
    {
     "name": "stdout",
     "output_type": "stream",
     "text": [
      "Collecting lenskit\n",
      "  Downloading lenskit-0.14.2-py3-none-any.whl (74 kB)\n",
      "Collecting seedbank>=0.1.0\n",
      "  Downloading seedbank-0.1.2-py3-none-any.whl (7.9 kB)\n",
      "Requirement already satisfied: numba<0.57,>=0.51 in c:\\users\\kraco\\anaconda3\\lib\\site-packages (from lenskit) (0.55.1)\n",
      "Collecting csr>=0.3.1\n",
      "  Downloading csr-0.4.3-py3-none-any.whl (23 kB)\n",
      "Requirement already satisfied: scipy>=1.2 in c:\\users\\kraco\\anaconda3\\lib\\site-packages (from lenskit) (1.7.3)\n",
      "Requirement already satisfied: cffi>=1.12.2 in c:\\users\\kraco\\anaconda3\\lib\\site-packages (from lenskit) (1.15.0)\n",
      "Requirement already satisfied: psutil>=5 in c:\\users\\kraco\\anaconda3\\lib\\site-packages (from lenskit) (5.8.0)\n",
      "Collecting binpickle>=0.3.2\n",
      "  Downloading binpickle-0.3.4-py3-none-any.whl (13 kB)\n",
      "Requirement already satisfied: pandas==1.*,>=1.0 in c:\\users\\kraco\\anaconda3\\lib\\site-packages (from lenskit) (1.4.2)\n",
      "Requirement already satisfied: numpy>=1.17 in c:\\users\\kraco\\anaconda3\\lib\\site-packages (from lenskit) (1.21.5)\n",
      "Requirement already satisfied: python-dateutil>=2.8.1 in c:\\users\\kraco\\anaconda3\\lib\\site-packages (from pandas==1.*,>=1.0->lenskit) (2.8.2)\n",
      "Requirement already satisfied: pytz>=2020.1 in c:\\users\\kraco\\anaconda3\\lib\\site-packages (from pandas==1.*,>=1.0->lenskit) (2021.3)\n",
      "Requirement already satisfied: msgpack>=1.0 in c:\\users\\kraco\\anaconda3\\lib\\site-packages (from binpickle>=0.3.2->lenskit) (1.0.2)\n",
      "Requirement already satisfied: pycparser in c:\\users\\kraco\\anaconda3\\lib\\site-packages (from cffi>=1.12.2->lenskit) (2.21)\n",
      "Requirement already satisfied: llvmlite<0.39,>=0.38.0rc1 in c:\\users\\kraco\\anaconda3\\lib\\site-packages (from numba<0.57,>=0.51->lenskit) (0.38.0)\n",
      "Requirement already satisfied: setuptools in c:\\users\\kraco\\anaconda3\\lib\\site-packages (from numba<0.57,>=0.51->lenskit) (61.2.0)\n",
      "Requirement already satisfied: six>=1.5 in c:\\users\\kraco\\anaconda3\\lib\\site-packages (from python-dateutil>=2.8.1->pandas==1.*,>=1.0->lenskit) (1.16.0)\n",
      "Collecting anyconfig\n",
      "  Downloading anyconfig-0.13.0-py2.py3-none-any.whl (87 kB)\n",
      "Installing collected packages: anyconfig, seedbank, csr, binpickle, lenskit\n",
      "Successfully installed anyconfig-0.13.0 binpickle-0.3.4 csr-0.4.3 lenskit-0.14.2 seedbank-0.1.2\n"
     ]
    }
   ],
   "source": [
    "!pip install lenskit"
   ]
  },
  {
   "cell_type": "code",
   "execution_count": 16,
   "metadata": {},
   "outputs": [
    {
     "name": "stdout",
     "output_type": "stream",
     "text": [
      "We have 610 users, 9724 movies and the rating matrix has 1.699968 percent of non-zero value.\n",
      "\n"
     ]
    }
   ],
   "source": [
    "import pandas as pd\n",
    "\n",
    "# read a DataFrame of ratings from the csv ratings file\n",
    "csvroot = 'data'\n",
    "ratings = pd.read_csv(csvroot + '/ratings.csv')\n",
    "#ratings = ratings.iloc[:1000]\n",
    "ratings = ratings.rename(columns={'userId': 'user', 'movieId': 'item'})\n",
    "\n",
    "def unique(list1):\n",
    "    # insert the list to the set\n",
    "    list_set = set(list1)\n",
    "    # convert the set to the list\n",
    "    unique_list = (list(list_set))\n",
    "    # use a dictionary to store the index of eac element in the list\n",
    "    unique_dict = {}\n",
    "    for i in range(len(unique_list)):\n",
    "        unique_dict[unique_list[i]] = i \n",
    "    return unique_list, unique_dict\n",
    "\n",
    "lst_users, dic_users = unique(ratings['user'])\n",
    "lst_items, dic_items = unique(ratings['item'])\n",
    "\n",
    "M = len(lst_users)\n",
    "N = len(lst_items)\n",
    "matrixSparsity = len(ratings) / (M*N)\n",
    "print(\"We have %d users, %d movies and the rating matrix has %f percent of non-zero value.\\n\" % (M, N, 100*matrixSparsity))"
   ]
  },
  {
   "cell_type": "code",
   "execution_count": 17,
   "metadata": {},
   "outputs": [
    {
     "data": {
      "text/plain": [
       "100836"
      ]
     },
     "execution_count": 17,
     "metadata": {},
     "output_type": "execute_result"
    }
   ],
   "source": [
    "len(ratings)"
   ]
  },
  {
   "cell_type": "code",
   "execution_count": 18,
   "metadata": {},
   "outputs": [
    {
     "name": "stdout",
     "output_type": "stream",
     "text": [
      "train0 : 80836 lines\n",
      "test0 : 20000 lines\n",
      "train1 : 80836 lines\n",
      "test1 : 20000 lines\n",
      "train2 : 80836 lines\n",
      "test2 : 20000 lines\n",
      "train3 : 80836 lines\n",
      "test3 : 20000 lines\n",
      "train4 : 80836 lines\n",
      "test4 : 20000 lines\n"
     ]
    }
   ],
   "source": [
    "# 2 fold cross-validation, store each partition (both train and test) in a seperate csv file.\n",
    "# Point 1: report the number of (user,iter,rating) items in each file.\n",
    "\n",
    "import lenskit.crossfold as xf\n",
    "\n",
    "nbSample = 0\n",
    "for train, test in xf.sample_rows(ratings, 5, 20000):\n",
    "    train.to_csv(csvroot + '/train-%d.csv' % (nbSample,))\n",
    "    print(f'train{nbSample} : {len(train)} lines')\n",
    "    test.to_csv(csvroot + '/test-%d.csv' % (nbSample,))\n",
    "    print(f'test{nbSample} : {len(test)} lines')\n",
    "    nbSample += 1\n"
   ]
  },
  {
   "cell_type": "code",
   "execution_count": 19,
   "metadata": {},
   "outputs": [],
   "source": [
    "def convert_DF_to_RDD(DF):\n",
    "    \"\"\" \n",
    "    This function converts a rating dataframe into a dictionary of lists\n",
    "    Args:\n",
    "        DF: a dataframe which contains 'user', 'item' and 'rating' columns\n",
    "    Returns:\n",
    "        RDD: a dictionary which contains \n",
    "            'total': the total number of rating\n",
    "            'users': a list of user id for each rating\n",
    "            'items': a list of item id for each rating\n",
    "            'ratings': a list of ratings\n",
    "    \"\"\" \n",
    "    RDD = {'total':0,'users':[],'items':[],'ratings':[]} \n",
    "    \n",
    "    for i in range(len(DF)):\n",
    "        RDD['total'] += 1\n",
    "        RDD['users'].append(DF.user[i])\n",
    "        RDD['items'].append(DF.item[i])\n",
    "        RDD['ratings'].append(DF.rating[i])\n",
    "    \n",
    "    return RDD"
   ]
  },
  {
   "cell_type": "code",
   "execution_count": 62,
   "metadata": {},
   "outputs": [],
   "source": [
    "# read the csv files from a partition of the cross-validation\n",
    "# convert them to RDD using convert_DF_to_RDD\n",
    "\n",
    "train = convert_DF_to_RDD(pd.read_csv(csvroot + '/train-0.csv'))\n",
    "test = convert_DF_to_RDD(pd.read_csv(csvroot + '/test-0.csv'))\n"
   ]
  },
  {
   "cell_type": "markdown",
   "metadata": {},
   "source": [
    "# B. Gradient-descent algorithm\n",
    "\n",
    "Based on the preprocessing, we are going to develop a method to find optimal P and Q on training data. It contains: \n",
    "\n",
    "1. compute the objective and the gradient of the objective function\n",
    "2. implement the gradient-descent algroithm\n",
    "3. measure the speed of this method"
   ]
  },
  {
   "cell_type": "code",
   "execution_count": 52,
   "metadata": {},
   "outputs": [],
   "source": [
    "# assume now you have obtained trainRDD and testRDD\n",
    "# Compute the objective funtion\n",
    "\n",
    "import numpy as np\n",
    "\n",
    "def computeMSE(RDD,P,Q,la=0):\n",
    "    \"\"\" \n",
    "    This function computes regularized Mean Squared Error (MSE)\n",
    "    Args:\n",
    "        RDD: a dict of list of userID, itemID, Rating\n",
    "        P: user's features matrix (M by K)\n",
    "        Q: item's features matrix (N by K)\n",
    "        la: lambda parameter for regulization (see definition in the project description)\n",
    "    Returns:\n",
    "        mse: mean squared error\n",
    "    \"\"\" \n",
    "    \n",
    "    se = 0\n",
    "    ratings = RDD['ratings']\n",
    "    users = RDD['users']\n",
    "    items = RDD['items']\n",
    "    total = RDD['total']\n",
    "    for n in range(total):\n",
    "        r = ratings[n]\n",
    "        i = dic_users[users[n]]\n",
    "        j = dic_items[items[n]]\n",
    "        hQ = np.copy(Q[j,:])\n",
    "        hQ[hQ > 0] = 0\n",
    "        hP = np.copy(P[i,:])\n",
    "        hP[hP > 0] = 0\n",
    "        se += (r - Q[j,:].T @ P[i,:])**2 + la * (np.linalg.norm(hP)**2 + np.linalg.norm(hQ)**2)\n",
    "    \n",
    "    return se / total\n",
    "    "
   ]
  },
  {
   "cell_type": "code",
   "execution_count": 31,
   "metadata": {},
   "outputs": [
    {
     "data": {
      "text/plain": [
       "6.246471264278017"
      ]
     },
     "execution_count": 31,
     "metadata": {},
     "output_type": "execute_result"
    }
   ],
   "source": [
    "# use a random P and Q to test the function computeMSE\n",
    "# Point 2: report MSE with LAMBDA=0\n",
    "\n",
    "K = 5 # rank parameter\n",
    "P = np.random.rand(M,K) # user's features matrix (M by K)\n",
    "Q = np.random.rand(N,K) # item's features matrix (N by K)\n",
    "\n",
    "computeMSE(train, P, Q)"
   ]
  },
  {
   "cell_type": "code",
   "execution_count": 53,
   "metadata": {},
   "outputs": [],
   "source": [
    "# Compute the gradient of the objective funtion\n",
    "def computeGradMSE(RDD,P,Q,la=0):\n",
    "    \"\"\" \n",
    "    This function computes the gradient of regularized MSE with respect to P and Q\n",
    "    Args:\n",
    "        RDD: a dict of list of userID, itemID, Rating\n",
    "        P: user's features matrix (M by K)\n",
    "        Q: item's features matrix (N by K)\n",
    "    Returns:\n",
    "        gradP, gradQ: gradient of mse with respect to each element of P and Q \n",
    "    \"\"\" \n",
    "    \n",
    "    gradP = np.zeros(P.shape)\n",
    "    gradQ = np.zeros(Q.shape)\n",
    "    ratings = RDD['ratings']\n",
    "    users = RDD['users']\n",
    "    items = RDD['items']\n",
    "    total = RDD['total']\n",
    "    for n in range(total):\n",
    "        r = ratings[n]\n",
    "        i = dic_users[users[n]]\n",
    "        j = dic_items[items[n]]\n",
    "        hQ = np.copy(Q[j,:])\n",
    "        hQ[hQ > 0] = 0\n",
    "        hP = np.copy(P[i,:])\n",
    "        hP[hP > 0] = 0\n",
    "        e = -2 * (r - Q[j,:].T @ P[i,:]) \n",
    "        for k in range(P.shape[1]):\n",
    "            gradP[i,k] = e * Q[j,k] + 2 * la * hP[k]\n",
    "            gradQ[j,k] = e * P[i,k] + 2 * la * hQ[k]\n",
    "    \n",
    "    return gradP, gradQ\n",
    "    "
   ]
  },
  {
   "cell_type": "code",
   "execution_count": 33,
   "metadata": {},
   "outputs": [
    {
     "data": {
      "text/plain": [
       "(array([[-3.50000517, -1.0024571 , -0.50518826, -0.5781635 , -4.46228871],\n",
       "        [-2.9898363 , -2.07690505, -2.10632066, -2.14615049, -3.08635349],\n",
       "        [-1.52319414, -0.62597446, -1.35041149, -4.31971525, -5.44930643],\n",
       "        ...,\n",
       "        [-4.58705787, -4.34118794, -0.430114  , -1.5375722 , -3.36314647],\n",
       "        [-3.0210971 , -2.45251768, -2.35703026, -3.62604401, -3.15095509],\n",
       "        [-6.22292436, -1.24656442, -1.45889114, -3.61198004, -3.24563299]]),\n",
       " array([[-1.72859797e-01, -4.08245499e-01, -2.91081543e+00,\n",
       "         -3.11748105e+00, -3.12513198e+00],\n",
       "        [-5.08823865e-01, -7.89031606e-01, -7.09682490e-01,\n",
       "         -2.93984392e-02, -8.78913882e-01],\n",
       "        [ 1.42067091e-01,  4.25940891e-02,  8.05929654e-02,\n",
       "          1.58451880e-01,  1.27790238e-01],\n",
       "        ...,\n",
       "        [-3.87601894e-03, -3.59473715e+00, -4.38066937e-01,\n",
       "         -2.72076637e+00, -1.90509537e+00],\n",
       "        [-1.22009845e-01, -2.73943909e+00, -3.87683578e+00,\n",
       "         -2.84336891e+00, -2.02692562e+00],\n",
       "        [-4.48565412e-01, -5.93181390e-02, -4.20266639e-01,\n",
       "         -1.44301580e+00, -4.78631116e-01]]))"
      ]
     },
     "execution_count": 33,
     "metadata": {},
     "output_type": "execute_result"
    }
   ],
   "source": [
    "computeGradMSE(train, P, Q, 0.1)"
   ]
  },
  {
   "cell_type": "code",
   "execution_count": 66,
   "metadata": {},
   "outputs": [],
   "source": [
    "# implement the (steepest) gradient-descent algorithm\n",
    "from tqdm import tqdm\n",
    "\n",
    "def backtraking(RDD, P, Q, gradP, gradQ, beta):\n",
    "    alpha = 1\n",
    "    while computeMSE(RDD, P - alpha * gradP, Q - alpha * gradQ) > computeMSE(RDD, P, Q):\n",
    "        alpha *= beta\n",
    "    return alpha\n",
    "    \n",
    "\n",
    "def GD(RDD,M,N,K,MAXITER=50, GAMMA=0.001, LAMBDA=0.05, adaptive=0):\n",
    "    \"\"\" \n",
    "    This function implemnts the gradient-descent method to minimize the regularized MSE with respect to P and Q\n",
    "    Args:\n",
    "        RDD: a dict of list of users, items, ratings\n",
    "        M: number of users\n",
    "        N: number of items\n",
    "        K: rank parameter\n",
    "        MAXITER: maximal number of iterations (epoches) of GD \n",
    "        GAMMA: step size of GD\n",
    "        LAMBDA: regulization parameter lambda in the mse loss\n",
    "        adaptive: if 0 then use constant step size GD, \n",
    "                  if 1 then use line search to choose the step size automatically\n",
    "    Returns:\n",
    "        P: optimal P found by GD\n",
    "        Q: optimal Q found by GD\n",
    "        lreg_mse: a list of regulized mse values evaluated on RDD, after each iteration\n",
    "        lmse: a list of mse values, evaluated on RDD after each iteration\n",
    "        other scores for analysis purpose\n",
    "    \"\"\"\n",
    "    tol = 0.005\n",
    "    lreg_mse = []\n",
    "    lmse = []\n",
    "    P = np.random.rand(M,K)\n",
    "    Q = np.random.rand(N,K) \n",
    "    alpha = GAMMA\n",
    "    gradP, gradQ = computeGradMSE(RDD, P, Q, LAMBDA)\n",
    "    normP0 = np.linalg.norm(gradP)\n",
    "    normQ0 = np.linalg.norm(gradQ)\n",
    "    for k in tqdm(range(MAXITER)):\n",
    "        saveP = P.copy()\n",
    "        saveQ = Q.copy()\n",
    "        if adaptive == 1:\n",
    "            alpha = backtraking(RDD, P, Q, gradP, gradQ, 0.1)\n",
    "        P -= alpha * gradP\n",
    "        Q -= alpha * gradQ\n",
    "        reg_mse = computeMSE(RDD, P, Q, LAMBDA)\n",
    "        lreg_mse.append(reg_mse)\n",
    "        mse = computeMSE(RDD, P, Q, 0)\n",
    "        lmse.append(computeMSE(RDD, P, Q, 0))\n",
    "        gradP, gradQ = computeGradMSE(RDD, P, Q, LAMBDA)\n",
    "        \n",
    "        vanish = np.linalg.norm(gradP) <= tol * (normP0 + tol) and np.linalg.norm(gradQ) <= tol * (normQ0 + tol)\n",
    "        stag = np.linalg.norm(P - saveP) <= tol * (np.linalg.norm(P) + tol) and np.linalg.norm(Q - saveQ) <= tol * (np.linalg.norm(Q) + tol)\n",
    "\n",
    "        if vanish or stag:\n",
    "            break\n",
    "    \n",
    "    return P, Q, lreg_mse, lmse\n",
    "    "
   ]
  },
  {
   "cell_type": "code",
   "execution_count": 28,
   "metadata": {},
   "outputs": [],
   "source": [
    "import matplotlib.pyplot as plt"
   ]
  },
  {
   "cell_type": "code",
   "execution_count": null,
   "metadata": {
    "scrolled": true
   },
   "outputs": [
    {
     "name": "stderr",
     "output_type": "stream",
     "text": [
      " 28%|██▊       | 55/200 [05:25<14:14,  5.89s/it]"
     ]
    }
   ],
   "source": [
    "# Compare GD constant step size with GD line search step size\n",
    "# Point 3: Make plots to show how (regularized) MSE changes with respect to GD iterations \n",
    "# Mention your initialization of P,Q, and the stopping criterion of GD\n",
    "\n",
    "P, Q, lreg_mse, lmse = GD(train,M,N,10,MAXITER=200, GAMMA=0.001, LAMBDA=0.3, adaptive=0)\n",
    "\n",
    "plt.plot(lreg_mse)\n",
    "plt.plot(lmse)\n",
    "plt.ylabel('rmse')\n",
    "plt.xlabel('step')\n",
    "plt.title('(reg) mse evolution constant step rate')\n",
    "plt.gca().legend(('lreg_mse','lmse'))\n",
    "plt.show()"
   ]
  },
  {
   "cell_type": "code",
   "execution_count": 60,
   "metadata": {},
   "outputs": [
    {
     "name": "stderr",
     "output_type": "stream",
     "text": [
      " 12%|█▏        | 6/50 [02:13<16:21, 22.30s/it]\n"
     ]
    },
    {
     "data": {
      "image/png": "[encoded data removed]",
      "text/plain": [
       "<Figure size 432x288 with 1 Axes>"
      ]
     },
     "metadata": {
      "needs_background": "light"
     },
     "output_type": "display_data"
    }
   ],
   "source": [
    "P, Q, lreg_mse, lmse = GD(train,M,N,10,MAXITER=50, GAMMA=0.001, LAMBDA=0.3, adaptive=1)\n",
    "\n",
    "plt.plot(lreg_mse)\n",
    "plt.plot(lmse)\n",
    "plt.ylabel('rmse')\n",
    "plt.xlabel('step')\n",
    "plt.title('(reg) mse evolution line search')\n",
    "plt.gca().legend(('lreg_mse','lmse'))\n",
    "plt.show()"
   ]
  },
  {
   "cell_type": "markdown",
   "metadata": {},
   "source": [
    "# C. Performance evaluation\n",
    "1. Compute RMSE score. You should use lenskit.metrics.predict.rmse for a fair comparison. Analyze both the training and test score on the 5 cross-validation partitions. \n",
    "2. Compare with a baseline method called Bias. Tune the hyper-parameters such as K and lambda to see if you can obtain a smaller RMSE. Try to explain why. "
   ]
  },
  {
   "cell_type": "code",
   "execution_count": 59,
   "metadata": {
    "scrolled": true
   },
   "outputs": [
    {
     "name": "stdout",
     "output_type": "stream",
     "text": [
      "Sample 0 :\n"
     ]
    },
    {
     "name": "stderr",
     "output_type": "stream",
     "text": [
      "  8%|▊         | 4/50 [01:07<12:51, 16.77s/it]\n"
     ]
    },
    {
     "name": "stdout",
     "output_type": "stream",
     "text": [
      "- train RMSE = 1.266671448536358\n",
      "- test RMSE = 1.351999208774776\n",
      "Sample 1 :\n"
     ]
    },
    {
     "name": "stderr",
     "output_type": "stream",
     "text": [
      "  8%|▊         | 4/50 [01:41<19:28, 25.40s/it]\n"
     ]
    },
    {
     "name": "stdout",
     "output_type": "stream",
     "text": [
      "- train RMSE = 1.2375828984647337\n",
      "- test RMSE = 1.3223387419017447\n",
      "Sample 2 :\n"
     ]
    },
    {
     "name": "stderr",
     "output_type": "stream",
     "text": [
      "  8%|▊         | 4/50 [01:07<12:58, 16.92s/it]\n"
     ]
    },
    {
     "name": "stdout",
     "output_type": "stream",
     "text": [
      "- train RMSE = 1.246443732670737\n",
      "- test RMSE = 1.3278474235491173\n",
      "Sample 3 :\n"
     ]
    },
    {
     "name": "stderr",
     "output_type": "stream",
     "text": [
      " 10%|█         | 5/50 [01:52<16:52, 22.49s/it]\n"
     ]
    },
    {
     "name": "stdout",
     "output_type": "stream",
     "text": [
      "- train RMSE = 1.2520492957744278\n",
      "- test RMSE = 1.35041680255113\n",
      "Sample 4 :\n"
     ]
    },
    {
     "name": "stderr",
     "output_type": "stream",
     "text": [
      " 10%|█         | 5/50 [01:52<16:51, 22.48s/it]\n"
     ]
    },
    {
     "name": "stdout",
     "output_type": "stream",
     "text": [
      "- train RMSE = 1.2738976533556166\n",
      "- test RMSE = 1.3605951856692993\n",
      "Train rmse mean = 1.2553290057603745\n",
      "Test rmse mean = 1.3426394724892137\n"
     ]
    }
   ],
   "source": [
    "# Point 4: Report RMSE, together with your choice of K,LAMBDA and GD parameters\n",
    "\n",
    "def evaluteRMSE(RDD,P,Q):\n",
    "    \"\"\" \n",
    "    This function computes the root MSE score on the rating of RDD. It compares the rating of each (i,j)\n",
    "    in RDD, with the prediction made by <p_i,q_j>. \n",
    "    Args:\n",
    "        RDD: a dict of list of users, items, ratings\n",
    "        P: optimal P found by GD\n",
    "        Q: optimal Q found by GD\n",
    "    Returns:\n",
    "        RMSE: the RMSE score\n",
    "    \"\"\"\n",
    "    \n",
    "    return np.sqrt(computeMSE(RDD,P,Q))\n",
    "\n",
    "train_rmse_mean = 0\n",
    "test_rmse_mean = 0\n",
    "for i in range(nbSample):\n",
    "    print(f'Sample {i} :')\n",
    "    train = convert_DF_to_RDD(pd.read_csv(csvroot + f'/train-{i}.csv'))\n",
    "    test = convert_DF_to_RDD(pd.read_csv(csvroot + f'/test-{i}.csv'))\n",
    "    P, Q, lreg_mse, lmse = GD(train,M,N,K,MAXITER=50, GAMMA=0.001, LAMBDA=0.05, adaptive=1)\n",
    "    rmse_train = evaluteRMSE(train, P, Q)\n",
    "    train_rmse_mean += rmse_train\n",
    "    print(f'- train RMSE = {rmse_train}')\n",
    "    rmse_test = evaluteRMSE(test, P, Q)\n",
    "    test_rmse_mean += rmse_test\n",
    "    print(f'- test RMSE = {rmse_test}')\n",
    "\n",
    "print(f'Train rmse mean = {train_rmse_mean/nbSample}')\n",
    "print(f'Test rmse mean = {test_rmse_mean/nbSample}')\n",
    "\n"
   ]
  },
  {
   "cell_type": "code",
   "execution_count": 46,
   "metadata": {},
   "outputs": [
    {
     "name": "stdout",
     "output_type": "stream",
     "text": [
      "Sample 0 :\n",
      "- train RMSE = 0.8076072193879845\n",
      "- test RMSE = 0.860220910922801\n",
      "Sample 1 :\n",
      "- train RMSE = 0.8068934004022934\n",
      "- test RMSE = 0.869415425998473\n",
      "Sample 2 :\n",
      "- train RMSE = 0.8097515909752586\n",
      "- test RMSE = 0.8686081588172784\n",
      "Sample 3 :\n",
      "- train RMSE = 0.8049834336808545\n",
      "- test RMSE = 0.8770768812608546\n",
      "Sample 4 :\n",
      "- train RMSE = 0.8062962484538404\n",
      "- test RMSE = 0.8706520992107379\n",
      "Train rmse mean = 0.8071063785800463\n",
      "Test rmse mean = 0.869194695242029\n"
     ]
    }
   ],
   "source": [
    "# Compare the performance with a baseline method called Bias\n",
    "# see in https://lkpy.readthedocs.io/en/stable/bias.html\n",
    "# Point 5:  report the RMSE of the baseline method, and analyze the results\n",
    "# Hint: use read_csv in panda to read you csv data\n",
    "\n",
    "from lenskit.metrics.predict import user_metric, rmse\n",
    "from lenskit.algorithms.bias import Bias\n",
    "from lenskit.batch import predict\n",
    "\n",
    "train_rmse_mean = 0\n",
    "test_rmse_mean = 0\n",
    "for i in range(nbSample):\n",
    "    print(f'Sample {i} :')\n",
    "    train = pd.read_csv(csvroot + f'/train-{i}.csv')\n",
    "    test = pd.read_csv(csvroot + f'/test-{i}.csv')\n",
    "    algo = Bias()\n",
    "    algo.fit(train)\n",
    "    preds_train = predict(algo, train)\n",
    "    rmse_train = user_metric(preds_train, metric=rmse)\n",
    "    train_rmse_mean += rmse_train\n",
    "    print(f'- train RMSE = {rmse_train}')\n",
    "    preds_test = predict(algo, test)\n",
    "    rmse_test = user_metric(preds_test, metric=rmse)\n",
    "    test_rmse_mean += rmse_test\n",
    "    print(f'- test RMSE = {rmse_test}')\n",
    "\n",
    "print(f'Train rmse mean = {train_rmse_mean/nbSample}')\n",
    "print(f'Test rmse mean = {test_rmse_mean/nbSample}')"
   ]
  }
 ],
 "metadata": {
  "kernelspec": {
   "display_name": "Python 3 (ipykernel)",
   "language": "python",
   "name": "python3"
  },
  "language_info": {
   "codemirror_mode": {
    "name": "ipython",
    "version": 3
   },
   "file_extension": ".py",
   "mimetype": "text/x-python",
   "name": "python",
   "nbconvert_exporter": "python",
   "pygments_lexer": "ipython3",
   "version": "3.9.12"
  }
 },
 "nbformat": 4,
 "nbformat_minor": 4
}
