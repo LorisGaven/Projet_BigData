{
 "cells": [
  {
   "cell_type": "markdown",
   "metadata": {},
   "source": [
    "# Optimization for Collabrative filtering"
   ]
  },
  {
   "cell_type": "markdown",
   "metadata": {},
   "source": [
    "# A. Preprocessing of data\n",
    "\n",
    "1. Data format\n",
    "\n",
    "We are going to preprocess a rating file in the following csv format:  \n",
    "```\n",
    "UserID::MovieID::Rating::Timestamp\n",
    "```\n",
    "\n",
    "2. Prepare data for cross-validation\n",
    "\n",
    "Splitting Data for a user-based N-fold cross-validation. Store each partition into a new csv file. \n",
    "\n",
    "It is convinient to use a python package lenskit. It can be installed by following https://lkpy.readthedocs.io/en/stable/install.html\n",
    "\n",
    "Use the function lenskit.crossfold.partition_rows to partition all the ratings into N train-test partitions.\n",
    "\n",
    "3. Convert to a list format\n",
    "\n",
    "Convert data into a list format for fast processing\n"
   ]
  },
  {
   "cell_type": "code",
   "execution_count": 11,
   "metadata": {},
   "outputs": [
    {
     "name": "stdout",
     "output_type": "stream",
     "text": [
      "Collecting lenskit\n",
      "  Downloading lenskit-0.14.2-py3-none-any.whl (74 kB)\n",
      "Collecting seedbank>=0.1.0\n",
      "  Downloading seedbank-0.1.2-py3-none-any.whl (7.9 kB)\n",
      "Requirement already satisfied: numba<0.57,>=0.51 in c:\\users\\kraco\\anaconda3\\lib\\site-packages (from lenskit) (0.55.1)\n",
      "Collecting csr>=0.3.1\n",
      "  Downloading csr-0.4.3-py3-none-any.whl (23 kB)\n",
      "Requirement already satisfied: scipy>=1.2 in c:\\users\\kraco\\anaconda3\\lib\\site-packages (from lenskit) (1.7.3)\n",
      "Requirement already satisfied: cffi>=1.12.2 in c:\\users\\kraco\\anaconda3\\lib\\site-packages (from lenskit) (1.15.0)\n",
      "Requirement already satisfied: psutil>=5 in c:\\users\\kraco\\anaconda3\\lib\\site-packages (from lenskit) (5.8.0)\n",
      "Collecting binpickle>=0.3.2\n",
      "  Downloading binpickle-0.3.4-py3-none-any.whl (13 kB)\n",
      "Requirement already satisfied: pandas==1.*,>=1.0 in c:\\users\\kraco\\anaconda3\\lib\\site-packages (from lenskit) (1.4.2)\n",
      "Requirement already satisfied: numpy>=1.17 in c:\\users\\kraco\\anaconda3\\lib\\site-packages (from lenskit) (1.21.5)\n",
      "Requirement already satisfied: python-dateutil>=2.8.1 in c:\\users\\kraco\\anaconda3\\lib\\site-packages (from pandas==1.*,>=1.0->lenskit) (2.8.2)\n",
      "Requirement already satisfied: pytz>=2020.1 in c:\\users\\kraco\\anaconda3\\lib\\site-packages (from pandas==1.*,>=1.0->lenskit) (2021.3)\n",
      "Requirement already satisfied: msgpack>=1.0 in c:\\users\\kraco\\anaconda3\\lib\\site-packages (from binpickle>=0.3.2->lenskit) (1.0.2)\n",
      "Requirement already satisfied: pycparser in c:\\users\\kraco\\anaconda3\\lib\\site-packages (from cffi>=1.12.2->lenskit) (2.21)\n",
      "Requirement already satisfied: llvmlite<0.39,>=0.38.0rc1 in c:\\users\\kraco\\anaconda3\\lib\\site-packages (from numba<0.57,>=0.51->lenskit) (0.38.0)\n",
      "Requirement already satisfied: setuptools in c:\\users\\kraco\\anaconda3\\lib\\site-packages (from numba<0.57,>=0.51->lenskit) (61.2.0)\n",
      "Requirement already satisfied: six>=1.5 in c:\\users\\kraco\\anaconda3\\lib\\site-packages (from python-dateutil>=2.8.1->pandas==1.*,>=1.0->lenskit) (1.16.0)\n",
      "Collecting anyconfig\n",
      "  Downloading anyconfig-0.13.0-py2.py3-none-any.whl (87 kB)\n",
      "Installing collected packages: anyconfig, seedbank, csr, binpickle, lenskit\n",
      "Successfully installed anyconfig-0.13.0 binpickle-0.3.4 csr-0.4.3 lenskit-0.14.2 seedbank-0.1.2\n"
     ]
    }
   ],
   "source": [
    "!pip install lenskit"
   ]
  },
  {
   "cell_type": "code",
   "execution_count": 147,
   "metadata": {},
   "outputs": [
    {
     "name": "stdout",
     "output_type": "stream",
     "text": [
      "We have 7 users, 802 movies and the rating matrix has 17.812611 percent of non-zero value.\n",
      "\n"
     ]
    }
   ],
   "source": [
    "import pandas as pd\n",
    "\n",
    "# read a DataFrame of ratings from the csv ratings file\n",
    "csvroot = 'data'\n",
    "ratings = pd.read_csv(csvroot + '/ratings.csv')\n",
    "ratings = ratings.iloc[:1000]\n",
    "ratings = ratings.rename(columns={'userId': 'user', 'movieId': 'item'})\n",
    "\n",
    "def unique(list1):\n",
    "    # insert the list to the set\n",
    "    list_set = set(list1)\n",
    "    # convert the set to the list\n",
    "    unique_list = (list(list_set))\n",
    "    # use a dictionary to store the index of each element in the list\n",
    "    unique_dict = {}\n",
    "    for i in range(len(unique_list)):\n",
    "        unique_dict[unique_list[i]] = i \n",
    "    return unique_list, unique_dict\n",
    "\n",
    "lst_users, dic_users = unique(ratings['user'])\n",
    "lst_items, dic_items = unique(ratings['item'])\n",
    "\n",
    "M = len(lst_users)\n",
    "N = len(lst_items)\n",
    "matrixSparsity = len(ratings) / (M*N)\n",
    "print(\"We have %d users, %d movies and the rating matrix has %f percent of non-zero value.\\n\" % (M, N, 100*matrixSparsity))"
   ]
  },
  {
   "cell_type": "code",
   "execution_count": 148,
   "metadata": {},
   "outputs": [
    {
     "data": {
      "text/plain": [
       "1000"
      ]
     },
     "execution_count": 148,
     "metadata": {},
     "output_type": "execute_result"
    }
   ],
   "source": [
    "len(ratings)"
   ]
  },
  {
   "cell_type": "code",
   "execution_count": 196,
   "metadata": {},
   "outputs": [
    {
     "name": "stdout",
     "output_type": "stream",
     "text": [
      "train5 : 900 lines\n",
      "test5 : 100 lines\n",
      "train5 : 900 lines\n",
      "test5 : 100 lines\n",
      "train5 : 900 lines\n",
      "test5 : 100 lines\n",
      "train5 : 900 lines\n",
      "test5 : 100 lines\n",
      "train5 : 900 lines\n",
      "test5 : 100 lines\n"
     ]
    }
   ],
   "source": [
    "# 2 fold cross-validation, store each partition (both train and test) in a seperate csv file.\n",
    "# Point 1: report the number of (user,iter,rating) items in each file.\n",
    "\n",
    "import lenskit.crossfold as xf\n",
    "\n",
    "nbSample = 0\n",
    "for train, test in xf.sample_rows(ratings, 5, 100):\n",
    "    train.to_csv(csvroot + '/train-%d.csv' % (i,))\n",
    "    print(f'train{i} : {len(train)} lines')\n",
    "    test.to_csv(csvroot + '/test-%d.csv' % (i,))\n",
    "    print(f'test{i} : {len(test)} lines')\n",
    "    nbSample += 1\n"
   ]
  },
  {
   "cell_type": "code",
   "execution_count": 151,
   "metadata": {},
   "outputs": [],
   "source": [
    "def convert_DF_to_RDD(DF):\n",
    "    \"\"\" \n",
    "    This function converts a rating dataframe into a dictionary of lists\n",
    "    Args:\n",
    "        DF: a dataframe which contains 'user', 'item' and 'rating' columns\n",
    "    Returns:\n",
    "        RDD: a dictionary which contains \n",
    "            'total': the total number of rating\n",
    "            'users': a list of user id for each rating\n",
    "            'items': a list of item id for each rating\n",
    "            'ratings': a list of ratings\n",
    "    \"\"\" \n",
    "    RDD = {'total':0,'users':[],'items':[],'ratings':[]} \n",
    "    \n",
    "    for i in range(len(DF)):\n",
    "        RDD['total'] += 1\n",
    "        RDD['users'].append(DF.user[i])\n",
    "        RDD['items'].append(DF.item[i])\n",
    "        RDD['ratings'].append(DF.rating[i])\n",
    "    \n",
    "    return RDD"
   ]
  },
  {
   "cell_type": "code",
   "execution_count": 152,
   "metadata": {},
   "outputs": [],
   "source": [
    "# read the csv files from a partition of the cross-validation\n",
    "# convert them to RDD using convert_DF_to_RDD\n",
    "\n",
    "train = convert_DF_to_RDD(pd.read_csv(csvroot + '/train-0.csv'))\n",
    "test = convert_DF_to_RDD(pd.read_csv(csvroot + '/test-0.csv'))\n"
   ]
  },
  {
   "cell_type": "markdown",
   "metadata": {},
   "source": [
    "# B. Gradient-descent algorithm\n",
    "\n",
    "Based on the preprocessing, we are going to develop a method to find optimal P and Q on training data. It contains: \n",
    "\n",
    "1. compute the objective and the gradient of the objective function\n",
    "2. implement the gradient-descent algroithm\n",
    "3. measure the speed of this method"
   ]
  },
  {
   "cell_type": "code",
   "execution_count": 153,
   "metadata": {},
   "outputs": [],
   "source": [
    "# assume now you have obtained trainRDD and testRDD\n",
    "# Compute the objective funtion\n",
    "\n",
    "import numpy as np\n",
    "\n",
    "def computeMSE(RDD,P,Q,la=0):\n",
    "    \"\"\" \n",
    "    This function computes regularized Mean Squared Error (MSE)\n",
    "    Args:\n",
    "        RDD: a dict of list of userID, itemID, Rating\n",
    "        P: user's features matrix (M by K)\n",
    "        Q: item's features matrix (N by K)\n",
    "        la: lambda parameter for regulization (see definition in the project description)\n",
    "    Returns:\n",
    "        mse: mean squared error\n",
    "    \"\"\" \n",
    "    \n",
    "    se = 0\n",
    "    ratings = RDD['ratings']\n",
    "    users = RDD['users']\n",
    "    items = RDD['items']\n",
    "    total = RDD['total']\n",
    "    for n in range(total):\n",
    "        r = ratings[n]\n",
    "        i = dic_users[users[n]]\n",
    "        j = dic_items[items[n]]\n",
    "        hQ = np.copy(Q[j,:])\n",
    "        hQ[hQ < 0] = 0\n",
    "        hP = np.copy(P[i,:])\n",
    "        hP[hP < 0] = 0\n",
    "        se += (r - Q[j,:].T @ P[i,:])**2 + la * (np.linalg.norm(hP)**2 + np.linalg.norm(hQ)**2)\n",
    "    \n",
    "    return se / total\n",
    "    "
   ]
  },
  {
   "cell_type": "code",
   "execution_count": 154,
   "metadata": {},
   "outputs": [
    {
     "data": {
      "text/plain": [
       "5.542617958947227"
      ]
     },
     "execution_count": 154,
     "metadata": {},
     "output_type": "execute_result"
    }
   ],
   "source": [
    "# use a random P and Q to test the function computeMSE\n",
    "# Point 2: report MSE with LAMBDA=0\n",
    "\n",
    "K = 5 # rank parameter\n",
    "P = np.random.rand(M,K) # user's features matrix (M by K)\n",
    "Q = np.random.rand(N,K) # item's features matrix (N by K)\n",
    "\n",
    "computeMSE(train, P, Q)"
   ]
  },
  {
   "cell_type": "code",
   "execution_count": 155,
   "metadata": {},
   "outputs": [],
   "source": [
    "# Compute the gradient of the objective funtion\n",
    "def computeGradMSE(RDD,P,Q,la=0):\n",
    "    \"\"\" \n",
    "    This function computes the gradient of regularized MSE with respect to P and Q\n",
    "    Args:\n",
    "        RDD: a dict of list of userID, itemID, Rating\n",
    "        P: user's features matrix (M by K)\n",
    "        Q: item's features matrix (N by K)\n",
    "    Returns:\n",
    "        gradP, gradQ: gradient of mse with respect to each element of P and Q \n",
    "    \"\"\" \n",
    "    \n",
    "    gradP = np.zeros(P.shape)\n",
    "    gradQ = np.zeros(Q.shape)\n",
    "    ratings = RDD['ratings']\n",
    "    users = RDD['users']\n",
    "    items = RDD['items']\n",
    "    total = RDD['total']\n",
    "    for n in range(total):\n",
    "        r = ratings[n]\n",
    "        i = dic_users[users[n]]\n",
    "        j = dic_items[items[n]]\n",
    "        hQ = np.copy(Q[j,:])\n",
    "        hQ[hQ < 0] = 0\n",
    "        hP = np.copy(P[i,:])\n",
    "        hP[hP < 0] = 0\n",
    "        e = -2 * (r - Q[j,:].T @ P[i,:]) \n",
    "        for k in range(P.shape[1]):\n",
    "            gradP[i,k] = e * Q[j,k] + 2 * la * hP[k]\n",
    "            gradQ[j,k] = e * P[i,k] + 2 * la * hQ[k]\n",
    "    \n",
    "    return gradP, gradQ\n",
    "    "
   ]
  },
  {
   "cell_type": "code",
   "execution_count": 156,
   "metadata": {},
   "outputs": [
    {
     "data": {
      "text/plain": [
       "(array([[-2.49865222, -0.89133171, -1.71804963, -1.71657888, -2.26229055],\n",
       "        [-2.06325124, -0.31302862, -1.90051769, -2.03204774, -1.71187681],\n",
       "        [ 1.10004156,  0.36288722,  0.88190454,  0.87238635,  0.71985182],\n",
       "        [-3.99443234, -4.48972377, -3.59069237, -3.13978522, -0.86652899],\n",
       "        [-0.84121856, -0.91426455, -2.22084488,  0.09619879, -2.18390455],\n",
       "        [-2.05913526, -1.59500214, -1.50012585, -5.33890329, -2.76480747],\n",
       "        [-4.04931836, -1.54929017, -2.39345241, -3.00153782, -1.07862958]]),\n",
       " array([[-2.71167425, -4.89068282, -4.52552644, -4.70979591, -4.98317727],\n",
       "        [-1.98603784, -3.51864663, -3.1458526 , -3.42797118, -3.52477316],\n",
       "        [-0.71851104, -0.41404335, -6.91131778, -4.01449003, -4.18831722],\n",
       "        ...,\n",
       "        [-2.08973059, -4.03892817, -3.667634  , -3.79740893, -4.14747614],\n",
       "        [-3.60193189, -6.48361718, -5.80786586, -6.26725711, -6.73886402],\n",
       "        [-1.28288496, -2.19520414, -2.01919125, -2.15198924, -2.28854821]]))"
      ]
     },
     "execution_count": 156,
     "metadata": {},
     "output_type": "execute_result"
    }
   ],
   "source": [
    "computeGradMSE(train, P, Q, 0.1)"
   ]
  },
  {
   "cell_type": "code",
   "execution_count": 194,
   "metadata": {},
   "outputs": [],
   "source": [
    "# implement the (steepest) gradient-descent algorithm\n",
    "from tqdm import tqdm\n",
    "\n",
    "def backtraking(RDD, P, Q, gradP, gradQ, beta):\n",
    "    alpha = 1\n",
    "    while computeMSE(RDD, P - alpha * gradP, Q - alpha * gradQ) > computeMSE(RDD, P, Q):\n",
    "        alpha *= beta\n",
    "    return alpha\n",
    "    \n",
    "\n",
    "def GD(RDD,M,N,K,MAXITER=50, GAMMA=0.001, LAMBDA=0.05, adaptive=0):\n",
    "    \"\"\" \n",
    "    This function implemnts the gradient-descent method to minimize the regularized MSE with respect to P and Q\n",
    "    Args:\n",
    "        RDD: a dict of list of users, items, ratings\n",
    "        M: number of users\n",
    "        N: number of items\n",
    "        K: rank parameter\n",
    "        MAXITER: maximal number of iterations (epoches) of GD \n",
    "        GAMMA: step size of GD\n",
    "        LAMBDA: regulization parameter lambda in the mse loss\n",
    "        adaptive: if 0 then use constant step size GD, \n",
    "                  if 1 then use line search to choose the step size automatically\n",
    "    Returns:\n",
    "        P: optimal P found by GD\n",
    "        Q: optimal Q found by GD\n",
    "        lreg_mse: a list of regulized mse values evaluated on RDD, after each iteration\n",
    "        lmse: a list of mse values, evaluated on RDD after each iteration\n",
    "        other scores for analysis purpose\n",
    "    \"\"\"\n",
    "    tol = 0.005\n",
    "    lreg_mse = []\n",
    "    lmse = []\n",
    "    P = np.random.rand(M,K)\n",
    "    Q = np.random.rand(N,K) \n",
    "    alpha = GAMMA\n",
    "    gradP, gradQ = computeGradMSE(RDD, P, Q, LAMBDA)\n",
    "    normP0 = np.linalg.norm(gradP)\n",
    "    normQ0 = np.linalg.norm(gradQ)\n",
    "    for k in tqdm(range(MAXITER)):\n",
    "        saveP = P.copy()\n",
    "        saveQ = Q.copy()\n",
    "        if adaptive == 1:\n",
    "            alpha = backtraking(RDD, P, Q, gradP, gradQ, 0.1)\n",
    "        P -= alpha * gradP\n",
    "        Q -= alpha * gradQ\n",
    "        reg_mse = computeMSE(RDD, P, Q, LAMBDA)\n",
    "        lreg_mse.append(reg_mse)\n",
    "        mse = computeMSE(RDD, P, Q, 0)\n",
    "        lmse.append(computeMSE(RDD, P, Q, 0))\n",
    "        gradP, gradQ = computeGradMSE(RDD, P, Q, LAMBDA)\n",
    "        \n",
    "        vanish = np.linalg.norm(gradP) <= tol * (normP0 + tol) and np.linalg.norm(gradQ) <= tol * (normQ0 + tol)\n",
    "        stag = np.linalg.norm(P - saveP) <= tol * (np.linalg.norm(P) + tol) and np.linalg.norm(Q - saveQ) <= tol * (np.linalg.norm(Q) + tol)\n",
    "\n",
    "        if vanish or stag:\n",
    "            break\n",
    "    \n",
    "    return P, Q, lreg_mse, lmse\n",
    "    "
   ]
  },
  {
   "cell_type": "code",
   "execution_count": 188,
   "metadata": {
    "scrolled": true
   },
   "outputs": [
    {
     "name": "stderr",
     "output_type": "stream",
     "text": [
      " 92%|█████████▏| 183/200 [00:10<00:00, 17.60it/s]\n"
     ]
    },
    {
     "data": {
      "image/png": "[encoded data removed]",
      "text/plain": [
       "<Figure size 432x288 with 1 Axes>"
      ]
     },
     "metadata": {
      "needs_background": "light"
     },
     "output_type": "display_data"
    }
   ],
   "source": [
    "# Compare GD constant step size with GD line search step size\n",
    "# Point 3: Make plots to show how (regularized) MSE changes with respect to GD iterations \n",
    "# Mention your initialization of P,Q, and the stopping criterion of GD\n",
    "\n",
    "import matplotlib.pyplot as plt\n",
    "\n",
    "P, Q, lreg_mse, lmse = GD(train,M,N,K,MAXITER=200, GAMMA=0.001, LAMBDA=0.05, adaptive=0)\n",
    "\n",
    "plt.plot(lreg_mse)\n",
    "plt.plot(lmse)\n",
    "plt.ylabel('rmse')\n",
    "plt.xlabel('step')\n",
    "plt.title('(reg) mse evolution constant step rate')\n",
    "plt.gca().legend(('lreg_mse','lmse'))\n",
    "plt.show()"
   ]
  },
  {
   "cell_type": "code",
   "execution_count": 195,
   "metadata": {},
   "outputs": [
    {
     "name": "stderr",
     "output_type": "stream",
     "text": [
      " 12%|█▏        | 6/50 [00:00<00:06,  6.71it/s]\n"
     ]
    },
    {
     "data": {
      "image/png": "[encoded data removed]",
      "text/plain": [
       "<Figure size 432x288 with 1 Axes>"
      ]
     },
     "metadata": {
      "needs_background": "light"
     },
     "output_type": "display_data"
    }
   ],
   "source": [
    "P, Q, lreg_mse, lmse = GD(train,M,N,K,MAXITER=50, GAMMA=0.001, LAMBDA=0.05, adaptive=1)\n",
    "\n",
    "plt.plot(lreg_mse)\n",
    "plt.plot(lmse)\n",
    "plt.ylabel('rmse')\n",
    "plt.xlabel('step')\n",
    "plt.title('(reg) mse evolution line search')\n",
    "plt.gca().legend(('lreg_mse','lmse'))\n",
    "plt.show()"
   ]
  },
  {
   "cell_type": "markdown",
   "metadata": {},
   "source": [
    "# C. Performance evaluation\n",
    "1. Compute RMSE score. You should use lenskit.metrics.predict.rmse for a fair comparison. Analyze both the training and test score on the 5 cross-validation partitions. \n",
    "2. Compare with a baseline method called Bias. Tune the hyper-parameters such as K and lambda to see if you can obtain a smaller RMSE. Try to explain why. "
   ]
  },
  {
   "cell_type": "code",
   "execution_count": 199,
   "metadata": {
    "scrolled": true
   },
   "outputs": [
    {
     "name": "stdout",
     "output_type": "stream",
     "text": [
      "Sample 0 :\n"
     ]
    },
    {
     "name": "stderr",
     "output_type": "stream",
     "text": [
      " 12%|█▏        | 6/50 [00:00<00:06,  6.68it/s]\n"
     ]
    },
    {
     "name": "stdout",
     "output_type": "stream",
     "text": [
      "- train RMSE = 0.7357122382689588\n",
      "- test RMSE = 1.9498700666879656\n",
      "Sample 1 :\n"
     ]
    },
    {
     "name": "stderr",
     "output_type": "stream",
     "text": [
      " 48%|████▊     | 24/50 [00:02<00:03,  8.00it/s]\n"
     ]
    },
    {
     "name": "stdout",
     "output_type": "stream",
     "text": [
      "- train RMSE = 0.7125865109396154\n",
      "- test RMSE = 2.0334288617584995\n",
      "Sample 2 :\n"
     ]
    },
    {
     "name": "stderr",
     "output_type": "stream",
     "text": [
      " 30%|███       | 15/50 [00:01<00:04,  7.88it/s]\n"
     ]
    },
    {
     "name": "stdout",
     "output_type": "stream",
     "text": [
      "- train RMSE = 0.7093700024578434\n",
      "- test RMSE = 1.7959732890865043\n",
      "Sample 3 :\n"
     ]
    },
    {
     "name": "stderr",
     "output_type": "stream",
     "text": [
      " 18%|█▊        | 9/50 [00:01<00:05,  7.10it/s]\n"
     ]
    },
    {
     "name": "stdout",
     "output_type": "stream",
     "text": [
      "- train RMSE = 0.6731046056967852\n",
      "- test RMSE = 1.869155958175047\n",
      "Sample 4 :\n"
     ]
    },
    {
     "name": "stderr",
     "output_type": "stream",
     "text": [
      " 16%|█▌        | 8/50 [00:01<00:06,  6.94it/s]"
     ]
    },
    {
     "name": "stdout",
     "output_type": "stream",
     "text": [
      "- train RMSE = 0.7334266232872994\n",
      "- test RMSE = 1.9898572374051406\n"
     ]
    },
    {
     "name": "stderr",
     "output_type": "stream",
     "text": [
      "\n"
     ]
    }
   ],
   "source": [
    "# Point 4: Report RMSE, together with your choice of K,LAMBDA and GD parameters\n",
    "\n",
    "from lenskit.metrics.predict import rmse\n",
    "\n",
    "def evaluteRMSE(RDD,P,Q):\n",
    "    \"\"\" \n",
    "    This function computes the root MSE score on the rating of RDD. It compares the rating of each (i,j)\n",
    "    in RDD, with the prediction made by <p_i,q_j>. \n",
    "    Args:\n",
    "        RDD: a dict of list of users, items, ratings\n",
    "        P: optimal P found by GD\n",
    "        Q: optimal Q found by GD\n",
    "    Returns:\n",
    "        RMSE: the RMSE score\n",
    "    \"\"\"\n",
    "    \n",
    "    return np.sqrt(computeMSE(RDD,P,Q))\n",
    "\n",
    "for i in range(nbSample):\n",
    "    print(f'Sample {i} :')\n",
    "    train = convert_DF_to_RDD(pd.read_csv(csvroot + f'/train-{i}.csv'))\n",
    "    test = convert_DF_to_RDD(pd.read_csv(csvroot + f'/test-{i}.csv'))\n",
    "    P, Q, lreg_mse, lmse = GD(train,M,N,K,MAXITER=50, GAMMA=0.001, LAMBDA=0.05, adaptive=1)\n",
    "    print(f'- train RMSE = {evaluteRMSE(train,P,Q)}')\n",
    "    print(f'- test RMSE = {evaluteRMSE(test,P,Q)}')\n",
    "\n"
   ]
  },
  {
   "cell_type": "code",
   "execution_count": null,
   "metadata": {},
   "outputs": [],
   "source": [
    "# Compare the performance with a baseline method called Bias\n",
    "# see in https://lkpy.readthedocs.io/en/stable/bias.html\n",
    "# Point 5:  report the RMSE of the baseline method, and analyze the results\n",
    "# Hint: use read_csv in panda to read you csv data\n",
    "\n",
    "from lenskit.algorithms.bias import Bias\n",
    "from lenskit.batch import predict\n",
    "\n",
    "### TODO\n"
   ]
  }
 ],
 "metadata": {
  "kernelspec": {
   "display_name": "Python 3 (ipykernel)",
   "language": "python",
   "name": "python3"
  },
  "language_info": {
   "codemirror_mode": {
    "name": "ipython",
    "version": 3
   },
   "file_extension": ".py",
   "mimetype": "text/x-python",
   "name": "python",
   "nbconvert_exporter": "python",
   "pygments_lexer": "ipython3",
   "version": "3.9.12"
  }
 },
 "nbformat": 4,
 "nbformat_minor": 4
}
